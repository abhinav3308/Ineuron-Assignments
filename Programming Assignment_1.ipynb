{
 "cells": [
  {
   "cell_type": "code",
   "execution_count": 20,
   "id": "11799803",
   "metadata": {},
   "outputs": [
    {
     "name": "stdout",
     "output_type": "stream",
     "text": [
      "Enter any number, zero or greater:10\n",
      "Hello Python\n"
     ]
    }
   ],
   "source": [
    "#1. Write a Python program to print \"Hello Python\" ?\n",
    "\n",
    "\n",
    "a = int(input(\"Enter any number, zero or greater:\"))\n",
    "\n",
    "if a >= 0:\n",
    "    print(\"Hello Python\")\n",
    "else:\n",
    "        print(\"please enter postive number\")"
   ]
  },
  {
   "cell_type": "code",
   "execution_count": 18,
   "id": "fe0516c0",
   "metadata": {},
   "outputs": [
    {
     "name": "stdout",
     "output_type": "stream",
     "text": [
      "50\n",
      "1.5\n"
     ]
    }
   ],
   "source": [
    "#2.Write a Python program to do arithmetical operations addition and division.?\n",
    "\n",
    "x = 30\n",
    "y = 20\n",
    "\n",
    "print(x+y)\n",
    "print(x/y)"
   ]
  },
  {
   "cell_type": "code",
   "execution_count": 21,
   "id": "a9d2a2d5",
   "metadata": {},
   "outputs": [
    {
     "name": "stdout",
     "output_type": "stream",
     "text": [
      "Enter first side: 8\n",
      "Enter second side: 4\n",
      "Enter third side: 9\n",
      "The area of the triangle is 15.998046755776157\n"
     ]
    }
   ],
   "source": [
    "# 3.Write a Python program to find the area of a triangle?\n",
    "\n",
    "a = float(input('Enter first side: '))\n",
    "b = float(input('Enter second side: '))\n",
    "c = float(input('Enter third side: '))\n",
    "\n",
    "s = (a + b + c) / 2\n",
    "\n",
    "area = (s*(s-a)*(s-b)*(s-c)) ** 0.5\n",
    "\n",
    "print(f\"The area of the triangle is {area}\")"
   ]
  },
  {
   "cell_type": "code",
   "execution_count": 6,
   "id": "e7afa688",
   "metadata": {},
   "outputs": [
    {
     "name": "stdout",
     "output_type": "stream",
     "text": [
      "Enter the value of X:30\n",
      "Enter the value of y:40\n",
      "-----------------------\n",
      "Before swapping the value of x is 30\n",
      "Before swapping the value of y is 40\n",
      "-----------------------\n",
      "After swapping the value of x is 40\n",
      "After swapping the value of y is 30\n"
     ]
    }
   ],
   "source": [
    "#4. Write a Python program to swap two variables?\n",
    "\n",
    "x = int(input(\"Enter the value of X:\"))\n",
    "y = int(input(\"Enter the value of y:\"))\n",
    "\n",
    "print(\"-----------------------\")\n",
    "print(f\"Before swapping the value of x is {x}\")\n",
    "print(f\"Before swapping the value of y is {y}\")\n",
    "print(\"-----------------------\")\n",
    "\n",
    "z = x\n",
    "x = y\n",
    "y = z\n",
    "print(f\"After swapping the value of x is {x}\")\n",
    "print(f\"After swapping the value of y is {y}\")"
   ]
  },
  {
   "cell_type": "code",
   "execution_count": 7,
   "id": "d56598f8",
   "metadata": {},
   "outputs": [
    {
     "name": "stdout",
     "output_type": "stream",
     "text": [
      "Printing Random Numbers\n",
      "56\n",
      "95\n",
      "17\n",
      "81\n",
      "7\n",
      "61\n",
      "45\n",
      "54\n",
      "99\n",
      "27\n"
     ]
    }
   ],
   "source": [
    "#5. Write a Python program to generate a random number?\n",
    "\n",
    "import random\n",
    "\n",
    "\n",
    "print(\"Printing Random Numbers\")\n",
    "for i in range(0, 10):\n",
    "    y = random.randrange(100)\n",
    "    print(y)"
   ]
  },
  {
   "cell_type": "code",
   "execution_count": null,
   "id": "f2143a1d",
   "metadata": {},
   "outputs": [],
   "source": []
  }
 ],
 "metadata": {
  "kernelspec": {
   "display_name": "Python 3 (ipykernel)",
   "language": "python",
   "name": "python3"
  },
  "language_info": {
   "codemirror_mode": {
    "name": "ipython",
    "version": 3
   },
   "file_extension": ".py",
   "mimetype": "text/x-python",
   "name": "python",
   "nbconvert_exporter": "python",
   "pygments_lexer": "ipython3",
   "version": "3.9.12"
  }
 },
 "nbformat": 4,
 "nbformat_minor": 5
}
