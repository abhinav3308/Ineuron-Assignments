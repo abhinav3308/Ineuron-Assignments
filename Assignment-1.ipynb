{
 "cells": [
  {
   "cell_type": "code",
   "execution_count": null,
   "id": "e366de28",
   "metadata": {},
   "outputs": [],
   "source": [
    "1. In the below elements which of them are values or an expression? eg:- values can be\n",
    "integer or string and expressions will be mathematical operators.\n",
    "\n",
    "\n",
    "*=Expression\n",
    "'hello'=String\n",
    "-87.8=Float\n",
    "-=Expression\n",
    "/=Expression\n",
    "+=Expression\n",
    "6=Integer"
   ]
  },
  {
   "cell_type": "code",
   "execution_count": null,
   "id": "b0743e94",
   "metadata": {},
   "outputs": [],
   "source": [
    "2. What is the difference between string and variable?\n",
    "\n",
    "\n",
    "A string is a value representing text and a variable can be be any value including strings.\n",
    "Strings should always be inside \" \" or ' ' else python starts throwing error\n",
    "\n",
    "A string can be assigned to any variable (offcourse there are certain conditions for naming a variable it can contain numbers\n",
    "but should not start with a number,its better not to use inbuilt functions or expressions as variables because we can not \n",
    "use those variables later for performing operations, we either have to revoke that by using el function or restart kernel)\n",
    "\n",
    "\n",
    "A string can be assigned to a variable but a string cant be used as variable."
   ]
  },
  {
   "cell_type": "code",
   "execution_count": null,
   "id": "f27718f4",
   "metadata": {},
   "outputs": [],
   "source": [
    "3. Describe three different data types.\n",
    "\n",
    "Numerics\n",
    "Strings\n",
    "tuples\n",
    "\n",
    "Numerics:\n",
    "    This data type is used to assign numeric values to variable.\n",
    "    In numerics we have integers,floats and complex\n",
    "    Integer could be - 1,99, or any numbers\n",
    "    floats- 99.9,188.8 any thing with decimals can be called as floats\n",
    "    complex numbers-1+1J or 3+10J are compex numbers\n",
    "    \n",
    "Strings:\n",
    "    this data type is used to assign strings to a variable.\n",
    "    A string always needs to be inside \" \" or ' ' quotes else python interpreter starts throwing error\n",
    "    \n",
    "    \"Abhinav\"  \"Hello world\" \"how are you\"\n",
    "    \n",
    "Tuples:\n",
    "    \n",
    "    a tuple is immuttable means you can only perform operations on a tuple but you can not assign a new variable nor change the \n",
    "    sequence of it. in other words it can be called as prtection,to protect data integrity.\n",
    "    \n",
    "a=(1,2,3,4)\n",
    "\n",
    "we have other data types also sets,booleans...etc"
   ]
  },
  {
   "cell_type": "code",
   "execution_count": null,
   "id": "2743114f",
   "metadata": {},
   "outputs": [],
   "source": [
    "4. What is an expression made up of? What do all expressions do?\n",
    "\n",
    "\n",
    "\n",
    "An expression is a combination of operators and operands which helps to produce results or values.\n",
    "\n",
    "We have differnet kind of expressions, based on our desired output we use different kind of expressions.\n",
    "\n",
    "\n",
    "Arithmetic expression\n",
    "Integral expression\n",
    "FLoating expression\n",
    "Relational expression\n",
    "Logical operations\n",
    "Bitwise operations\n",
    "\n",
    "These expressions are very important to perform any addition,comparisions or writing logical conditions or any loop conditions.\n"
   ]
  },
  {
   "cell_type": "code",
   "execution_count": null,
   "id": "57028cd1",
   "metadata": {},
   "outputs": [],
   "source": [
    "5. This assignment statements, like spam = 10. What is the difference between an\n",
    "expression and a statement?\n",
    "\n",
    "\n",
    "An expression returns values.\n",
    "We have various expressions in python ex---  /,*,-,+ etc.....\n",
    "\n",
    "But to return value atleast one expression must be used to see the output and it also can print result value.\n",
    "\n",
    "4+5, \"heloo\" + \"world\" \n",
    "\n",
    "\n",
    "A statement never returns any vales.\n",
    "\n",
    "ex-----conditional statements,loop statements,pass,del....\n",
    "it can not print any result.\n"
   ]
  },
  {
   "cell_type": "code",
   "execution_count": null,
   "id": "a20e924f",
   "metadata": {},
   "outputs": [],
   "source": [
    "6. After running the following code, what does the variable bacon contain?\n",
    "bacon = 22\n",
    "bacon + 1\n",
    "\n",
    "Out put will be 23"
   ]
  },
  {
   "cell_type": "code",
   "execution_count": null,
   "id": "10ecff91",
   "metadata": {},
   "outputs": [],
   "source": [
    "7. What should the values of the following two terms be?\n",
    "'spam'+'spamspam'\n",
    "'spam'*3\n",
    "\n",
    "Output will be 'spamspamspam'"
   ]
  },
  {
   "cell_type": "code",
   "execution_count": null,
   "id": "b39a6a2e",
   "metadata": {},
   "outputs": [],
   "source": [
    "8. Why is eggs a valid variable name while 100 is invalid?\n",
    "\n",
    "eggs is valid name because it  did not start with a number or using any special characters,in built functions or any epression\n",
    "of python\n",
    "\n",
    "whereas 100 is not valid one because a vraiable name should not start with number or only numbers."
   ]
  },
  {
   "cell_type": "code",
   "execution_count": null,
   "id": "a29e0b64",
   "metadata": {},
   "outputs": [],
   "source": [
    "9. What three functions can be used to get the integer, floating-point number, or string\n",
    "version of a value?\n",
    "\n",
    "int() can be used to get integer\n",
    "float()can be used to get float\n",
    "str() can be used to string version of value\n",
    "\n",
    "above three can be used to manipulate the end results by calling these functions\n",
    "We have other functions which can used to do that but completely based on our requirement."
   ]
  },
  {
   "cell_type": "code",
   "execution_count": null,
   "id": "bb6e882d",
   "metadata": {},
   "outputs": [],
   "source": [
    "10. Why does this expression cause an error? How can you fix it?\n",
    "'i have eaten' +99+ 'burritos.'\n",
    "\n",
    "\n",
    "it throws an error because \"can only concatenate str  to str not int\"\n",
    "To fix this error we can use thriple quotes\n",
    "\n",
    "'''i have eaten +99+ burritos.'''"
   ]
  }
 ],
 "metadata": {
  "kernelspec": {
   "display_name": "Python 3 (ipykernel)",
   "language": "python",
   "name": "python3"
  },
  "language_info": {
   "codemirror_mode": {
    "name": "ipython",
    "version": 3
   },
   "file_extension": ".py",
   "mimetype": "text/x-python",
   "name": "python",
   "nbconvert_exporter": "python",
   "pygments_lexer": "ipython3",
   "version": "3.9.12"
  }
 },
 "nbformat": 4,
 "nbformat_minor": 5
}
