{
 "cells": [
  {
   "cell_type": "code",
   "execution_count": null,
   "id": "9811f966",
   "metadata": {},
   "outputs": [],
   "source": [
    "#1.Write a Python program to convert kilometers to miles?\n",
    "\n",
    "kilometers = float(input(\"Enter value in kilometers: \"))\n",
    "mile = 0.621371\n",
    "\n",
    "miles = kilometers * mile\n",
    "\n",
    "print(f\"{kilometers} kilometers is equal to {miles} miles\")"
   ]
  },
  {
   "cell_type": "code",
   "execution_count": null,
   "id": "9c013cc2",
   "metadata": {},
   "outputs": [],
   "source": [
    "#2. Write a Python program to convert Celsius to Fahrenheit?\n",
    "\n",
    "celsius = float(input(\"Enter the value in celsius: \"))\n",
    "\n",
    "fahrenheit = (celsius * 1.8) + 32\n",
    "\n",
    "print(f\"{celsius} degree celsius is equal to {fahrenheit} degree fahrenheit\")"
   ]
  },
  {
   "cell_type": "code",
   "execution_count": null,
   "id": "c7ec1265",
   "metadata": {},
   "outputs": [],
   "source": [
    "#3. Write a Python program to display calendar?\n",
    "\n",
    "import calendar\n",
    "\n",
    "year = 2022\n",
    "print(calendar.calendar(year))"
   ]
  },
  {
   "cell_type": "code",
   "execution_count": null,
   "id": "68c92187",
   "metadata": {},
   "outputs": [],
   "source": [
    "#4. Write a Python program to solve quadratic equation?\n",
    "\n",
    "import cmath  \n",
    "a = float(input('Enter the value of a: '))  \n",
    "b = float(input('Enter the value of b: '))  \n",
    "c = float(input('Enter the value of c: '))  \n",
    "  \n",
    "# calculating the discriminant  \n",
    "disc = (b**2) - (4*a*c)  \n",
    "  \n",
    "# finding the two possible ways \n",
    "solution_1= (-b-cmath.sqrt(disc))/(2*a)  \n",
    "solution_2= (-b+cmath.sqrt(disc))/(2*a)  \n",
    "print(f\"the solutions are {solution_1} and {solution_2}\")"
   ]
  },
  {
   "cell_type": "code",
   "execution_count": null,
   "id": "0fd48227",
   "metadata": {},
   "outputs": [],
   "source": [
    "#5. Write a Python program to swap two variables without temp variable?\n",
    "\n",
    "x = 10\n",
    "\n",
    "y = 20\n",
    "\n",
    "print(f\"vale of X is {x} before swapping\")\n",
    "print(f\"vale of Y is {y} before swapping\")\n",
    "\n",
    "x,y = y,x\n",
    "\n",
    "print(f\"vale of X is {x} after swapping\")\n",
    "print(f\"vale of Y is {y} after swapping\")"
   ]
  }
 ],
 "metadata": {
  "kernelspec": {
   "display_name": "Python 3 (ipykernel)",
   "language": "python",
   "name": "python3"
  },
  "language_info": {
   "codemirror_mode": {
    "name": "ipython",
    "version": 3
   },
   "file_extension": ".py",
   "mimetype": "text/x-python",
   "name": "python",
   "nbconvert_exporter": "python",
   "pygments_lexer": "ipython3",
   "version": "3.9.12"
  }
 },
 "nbformat": 4,
 "nbformat_minor": 5
}
