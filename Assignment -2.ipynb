{
 "cells": [
  {
   "cell_type": "code",
   "execution_count": null,
   "id": "42c6a184",
   "metadata": {},
   "outputs": [],
   "source": [
    "#1.What are the two values of the Boolean data type? How do you write them?\n",
    "\n",
    "1#True\n",
    "2#False\n",
    "\n",
    "bool() function can be used to write.\n",
    "With out using bool function also we can extract results by using operators.\n",
    "\n",
    "x = 10\n",
    "y = 20\n",
    "print(bool(x==y))\n",
    "\n",
    "x = 10\n",
    "y = 10\n",
    "print(bool(x==y))\n",
    "\n"
   ]
  },
  {
   "cell_type": "code",
   "execution_count": null,
   "id": "77d68fbb",
   "metadata": {},
   "outputs": [],
   "source": [
    "#2. What are the three different types of Boolean operators?\n",
    "\n",
    "And\n",
    "OR\n",
    "Not"
   ]
  },
  {
   "cell_type": "code",
   "execution_count": null,
   "id": "ded51e87",
   "metadata": {},
   "outputs": [],
   "source": [
    "#3. Make a list of each Boolean operators truth tables (i.e. every possible combination of Boolean\n",
    "#values for the operator and what it evaluate ).\n",
    "\n",
    "AND operator\n",
    "\n",
    "A        B     A and B\n",
    "True    True    True\n",
    "True    False   False\n",
    "False   True    False\n",
    "False   False   False\n",
    "\n",
    "\n",
    "OR operator\n",
    "\n",
    "A        B     A or B\n",
    "True    True    True\n",
    "True    False   True\n",
    "False   True    True\n",
    "False   False   False\n",
    "\n",
    "\n",
    "NOT operator\n",
    "\n",
    "  A       Not A\n",
    "True     False\n",
    "False    True\n",
    "\n",
    "\n",
    "Along with these we have is,in operator......."
   ]
  },
  {
   "cell_type": "code",
   "execution_count": null,
   "id": "e55ef4f1",
   "metadata": {},
   "outputs": [],
   "source": [
    "#4. What are the values of the following expressions?\n",
    "\n",
    "(5 > 4) and (3 == 5) #false\n",
    "not (5 > 4) #false\n",
    "(5 > 4) or (3 == 5)#true\n",
    "not ((5 > 4) or (3 == 5))#false\n",
    "(True and True) and (True == False)#false\n",
    "(not False) or (not True)#true"
   ]
  },
  {
   "cell_type": "code",
   "execution_count": null,
   "id": "369f5659",
   "metadata": {},
   "outputs": [],
   "source": [
    "#5. What are the six comparison operators?\n",
    "\n",
    "Less than(<)\n",
    "Greater than (>)\n",
    "less than or equal to (<=)\n",
    "greater than or equal to(>=)\n",
    "equal to(==)\n",
    "not equal to (!=)"
   ]
  },
  {
   "cell_type": "code",
   "execution_count": null,
   "id": "88da961e",
   "metadata": {},
   "outputs": [],
   "source": [
    "6. How do you tell the difference between the equal to and assignment operators?Describe a\n",
    "condition and when you would use one.\n",
    "\n",
    "x = 5 # this is assignment operator meaning am assigning 5 to a variable \"x\"\n",
    "x =\"abhi\" # this is also assignment operator meaning am assigning \"abhi\"to a variable \"x\"\n",
    "\n",
    "x=5\n",
    "y=5\n",
    "x==y # this equal to meaning am expecting true or false statement out of this.\n",
    "\n",
    "\n"
   ]
  },
  {
   "cell_type": "code",
   "execution_count": null,
   "id": "fb1811c2",
   "metadata": {},
   "outputs": [],
   "source": [
    "7. Identify the three blocks in this code:\n",
    "    \n",
    "spam=0\n",
    "if spam==10:\n",
    "    print(\"eggs\") #block1\n",
    "if spam>5:\n",
    "    print(\"bacon\") #block2\n",
    "else:\n",
    "    print(\"ham\")\n",
    "    print(\"spam\")  #block3\n",
    "    print(\"spam\")  "
   ]
  },
  {
   "cell_type": "code",
   "execution_count": null,
   "id": "66d529d7",
   "metadata": {},
   "outputs": [],
   "source": [
    "#8. Write code that prints Hello if 1 is stored in spam, prints Howdy if 2 is stored in spam, and prints\n",
    "#Greetings! if anything else is stored in spam.\n",
    "\n",
    "\n",
    "spam = int(input(\"please enter only numbers: \"))\n",
    "\n",
    "if spam == 1:\n",
    "    print(\"hello\")\n",
    "elif spam ==2:\n",
    "    print(\"howdy\")\n",
    "else:\n",
    "    print(\"greetings\")"
   ]
  },
  {
   "cell_type": "code",
   "execution_count": null,
   "id": "cdbdfc6f",
   "metadata": {},
   "outputs": [],
   "source": [
    "9.If your programme is stuck in an endless loop, what keys you’ll press?\n",
    "\n",
    "Interrupt the kernel"
   ]
  },
  {
   "cell_type": "code",
   "execution_count": null,
   "id": "9003d2b7",
   "metadata": {},
   "outputs": [],
   "source": [
    "10. How can you tell the difference between break and continue?\n",
    "\n",
    "Break -  if we use break statement in any loop it will end the execution there and come out of the loop and prints the output\n",
    "of the logic\n",
    "\n",
    "a = [1,2,3,4,5,6,7,8,9]\n",
    "for i in a:\n",
    "    if i == 6:\n",
    "        break\n",
    "    print(i)\n",
    "    \n",
    "continue- if we use continue statement in any lopp it will just skip what ever logic we have written there and proceeds to to\n",
    "the next execution task.\n",
    "\n",
    "a = [1,2,3,4,5,6,7,8,9]\n",
    "for i in a:\n",
    "    if i == 6:\n",
    "        continue\n",
    "    print(i)\n",
    "    \n",
    "    "
   ]
  },
  {
   "cell_type": "code",
   "execution_count": null,
   "id": "5b43bac6",
   "metadata": {},
   "outputs": [],
   "source": [
    "11. In a for loop, what is the difference between range(10), range(0, 10), and range(0, 10, 1)?\n",
    "\n",
    "All the range mentioned above functions produces same results here\n",
    "\n",
    "range(10) means it will print the ouput of numbers from 0 to 9 and 10 will be excluded\n",
    "range(0,10) means it will also print the out put of numbers from 0 t 9 10 will be excluded\n",
    "\n",
    "difference is, even if we dont mention range (0,10) python by default will print the numbers from 0 to 9\n",
    "\n",
    "range(0,10,1) is a step function, means it will skip one number and gives us the output if we take range(0,10,2) it will skip\n",
    "two numbers and gives the out put\n",
    "\n",
    "range(10), range(0, 10), and range(0, 10, 1) all gives same output"
   ]
  },
  {
   "cell_type": "code",
   "execution_count": 2,
   "id": "20cab977",
   "metadata": {},
   "outputs": [
    {
     "name": "stdout",
     "output_type": "stream",
     "text": [
      "1\n",
      "2\n",
      "3\n",
      "4\n",
      "5\n",
      "6\n",
      "7\n",
      "8\n",
      "9\n",
      "10\n"
     ]
    }
   ],
   "source": [
    "#12. Write a short program that prints the numbers 1 to 10 using a for loop. Then write an equivalent\n",
    "#program that prints the numbers 1 to 10 using a while loop.\n",
    "\n",
    "#for loop:\n",
    "\n",
    "for i in range(1,11):\n",
    "    print(i)\n",
    "    \n",
    "#while loop:\n",
    "\n",
    "n=1\n",
    "\n",
    "while n < 11:\n",
    "    print((n))\n",
    "    n+=1"
   ]
  },
  {
   "cell_type": "code",
   "execution_count": null,
   "id": "ec4ab0eb",
   "metadata": {},
   "outputs": [],
   "source": [
    "13. If you had a function named bacon() inside a module named spam, how would you call it after\n",
    "importing spam?\n",
    "\n",
    "\n",
    "spam.bacon()"
   ]
  }
 ],
 "metadata": {
  "kernelspec": {
   "display_name": "Python 3 (ipykernel)",
   "language": "python",
   "name": "python3"
  },
  "language_info": {
   "codemirror_mode": {
    "name": "ipython",
    "version": 3
   },
   "file_extension": ".py",
   "mimetype": "text/x-python",
   "name": "python",
   "nbconvert_exporter": "python",
   "pygments_lexer": "ipython3",
   "version": "3.9.12"
  }
 },
 "nbformat": 4,
 "nbformat_minor": 5
}
